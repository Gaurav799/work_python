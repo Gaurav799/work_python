{
 "cells": [
  {
   "cell_type": "markdown",
   "metadata": {},
   "source": [
    "FOR LOOP"
   ]
  },
  {
   "cell_type": "code",
   "execution_count": null,
   "metadata": {},
   "outputs": [],
   "source": [
    "print(1)\n",
    "print(2)\n",
    "print(3)\n",
    "print(4)\n",
    "print(5)\n",
    "print(6)\n",
    "print(7)\n",
    "print(8)\n",
    "print(9)\n",
    "print(10)\n",
    "print(11)\n",
    "print(12)\n",
    "print(13)\n",
    "print(14)\n",
    "print(15)\n",
    "print(16)\n",
    "print(17)\n",
    "print(18)\n",
    "print(19)\n",
    "print(20)\n",
    "print(21)\n",
    "print(22)\n",
    "print(23)\n",
    "print(24)\n",
    "print(25)\n",
    "print(26)\n",
    "print(27)\n",
    "print(28)\n",
    "print(29)\n",
    "print(30)\n",
    "print(31)\n",
    "print(32)\n",
    "print(33)\n",
    "print(34)\n",
    "print(35)\n",
    "print(36)\n",
    "print(37)\n",
    "print(38)\n",
    "print(39)\n",
    "print(40)"
   ]
  },
  {
   "cell_type": "code",
   "execution_count": 1,
   "metadata": {},
   "outputs": [
    {
     "name": "stdout",
     "output_type": "stream",
     "text": [
      "p\n",
      "y\n",
      "t\n",
      "h\n",
      "o\n",
      "n\n"
     ]
    }
   ],
   "source": [
    "x='python'\n",
    "for i in x:\n",
    "    print(i)"
   ]
  },
  {
   "cell_type": "code",
   "execution_count": 3,
   "metadata": {},
   "outputs": [
    {
     "name": "stdout",
     "output_type": "stream",
     "text": [
      "t\n",
      "h\n",
      "i\n",
      "s\n",
      " \n",
      "i\n",
      "s\n",
      " \n",
      "s\n",
      "p\n",
      "a\n",
      "r\n",
      "t\n",
      "a\n"
     ]
    }
   ],
   "source": [
    "word = 'this is sparta'\n",
    "for i in word:\n",
    "    print(i)"
   ]
  },
  {
   "cell_type": "code",
   "execution_count": 10,
   "metadata": {},
   "outputs": [
    {
     "name": "stdout",
     "output_type": "stream",
     "text": [
      "i have apple\n",
      "i have banana\n",
      "i have lemon\n"
     ]
    }
   ],
   "source": [
    "fruits = ['apple','banana','lemon']\n",
    "for item in fruits:\n",
    "    print(f'i have {item}')"
   ]
  },
  {
   "cell_type": "code",
   "execution_count": 16,
   "metadata": {},
   "outputs": [
    {
     "name": "stdout",
     "output_type": "stream",
     "text": [
      "0\n",
      "1\n",
      "2\n",
      "3\n",
      "4\n",
      "5\n",
      "6\n",
      "7\n",
      "8\n",
      "9\n",
      "10\n"
     ]
    }
   ],
   "source": [
    "for i in range(11):\n",
    "    print(i)"
   ]
  },
  {
   "cell_type": "code",
   "execution_count": 17,
   "metadata": {},
   "outputs": [
    {
     "name": "stdout",
     "output_type": "stream",
     "text": [
      "bat 2\n",
      "bat 3\n",
      "bat 4\n",
      "bat 5\n",
      "bat 6\n",
      "bat 7\n",
      "bat 8\n",
      "bat 9\n",
      "bat 10\n"
     ]
    }
   ],
   "source": [
    "for num in range(2,11):\n",
    "    print('bat',num)"
   ]
  },
  {
   "cell_type": "code",
   "execution_count": 18,
   "metadata": {},
   "outputs": [
    {
     "name": "stdout",
     "output_type": "stream",
     "text": [
      "level 1\n",
      "level 4\n",
      "level 7\n"
     ]
    }
   ],
   "source": [
    "for num in range(1,10,3):\n",
    "    print('level',num)"
   ]
  },
  {
   "cell_type": "code",
   "execution_count": 19,
   "metadata": {},
   "outputs": [
    {
     "name": "stdout",
     "output_type": "stream",
     "text": [
      "10\n",
      "9\n",
      "8\n",
      "7\n",
      "6\n",
      "5\n",
      "4\n",
      "3\n",
      "2\n",
      "1\n"
     ]
    }
   ],
   "source": [
    "for num in range(10,0,-1):\n",
    "    print(num)"
   ]
  },
  {
   "cell_type": "code",
   "execution_count": 21,
   "metadata": {},
   "outputs": [
    {
     "name": "stdout",
     "output_type": "stream",
     "text": [
      "\n",
      "na\n",
      "nana\n",
      "nanana\n",
      "nananana\n",
      "nanananana\n",
      "nananananana\n",
      "nanananananana\n",
      "nananananananana\n",
      "nanananananananana\n",
      "nananananananananana\n",
      "nanananananananananana\n",
      "nananananananananananana\n",
      "nanananananananananananana\n",
      "nananananananananananananana\n",
      "nanananananananananananananana\n",
      "nananananananananananananananana\n",
      "nanananananananananananananananana\n",
      "nananananananananananananananananana\n",
      "nanananananananananananananananananana\n",
      "nananananananananananananananananananana\n",
      "nanananananananananananananananananananana\n",
      "nananananananananananananananananananananana\n",
      "nanananananananananananananananananananananana\n",
      "nananananananananananananananananananananananana\n",
      "nanananananananananananananananananananananananana\n",
      "nananananananananananananananananananananananananana\n",
      "nanananananananananananananananananananananananananana\n",
      "nananananananananananananananananananananananananananana\n",
      "nanananananananananananananananananananananananananananana\n",
      "nananananananananananananananananananananananananananananana\n",
      "nanananananananananananananananananananananananananananananana\n",
      "nananananananananananananananananananananananananananananananana\n",
      "nanananananananananananananananananananananananananananananananana\n",
      "nananananananananananananananananananananananananananananananananana\n",
      "nanananananananananananananananananananananananananananananananananana\n",
      "nananananananananananananananananananananananananananananananananananana\n",
      "nanananananananananananananananananananananananananananananananananananana\n",
      "nananananananananananananananananananananananananananananananananananananana\n",
      "nanananananananananananananananananananananananananananananananananananananana\n",
      "nananananananananananananananananananananananananananananananananananananananana\n",
      "nanananananananananananananananananananananananananananananananananananananananana\n",
      "nananananananananananananananananananananananananananananananananananananananananana\n",
      "nanananananananananananananananananananananananananananananananananananananananananana\n",
      "nananananananananananananananananananananananananananananananananananananananananananana\n",
      "nanananananananananananananananananananananananananananananananananananananananananananana\n",
      "nananananananananananananananananananananananananananananananananananananananananananananana\n",
      "nanananananananananananananananananananananananananananananananananananananananananananananana\n",
      "nananananananananananananananananananananananananananananananananananananananananananananananana\n",
      "nanananananananananananananananananananananananananananananananananananananananananananananananana\n",
      "nananananananananananananananananananananananananananananananananananananananananananananananananana\n"
     ]
    }
   ],
   "source": [
    "for i in range(51):\n",
    "    print(i*'na')"
   ]
  },
  {
   "cell_type": "code",
   "execution_count": 22,
   "metadata": {},
   "outputs": [
    {
     "name": "stdout",
     "output_type": "stream",
     "text": [
      "15\n",
      "30\n",
      "45\n",
      "60\n",
      "75\n",
      "90\n"
     ]
    }
   ],
   "source": [
    "for num in range(1,101):\n",
    "    if num %3==0 and num %5==0:\n",
    "        print(num)"
   ]
  },
  {
   "cell_type": "code",
   "execution_count": 23,
   "metadata": {},
   "outputs": [
    {
     "name": "stdout",
     "output_type": "stream",
     "text": [
      "paris cointains 5 characters\n",
      "london cointains 6 characters\n",
      "new york cointains 8 characters\n",
      "madrid cointains 6 characters\n",
      "rome cointains 4 characters\n"
     ]
    }
   ],
   "source": [
    "places=['paris','london','new york','madrid','rome']\n",
    "for place in places:\n",
    "    print(f'{place} cointains {len(place)} characters')"
   ]
  },
  {
   "cell_type": "code",
   "execution_count": 31,
   "metadata": {},
   "outputs": [
    {
     "name": "stdout",
     "output_type": "stream",
     "text": [
      "19\n"
     ]
    }
   ],
   "source": [
    "x = [1,2,3,1,2,1,2,3,1,2,3,1,1,1,1,3,2,1,1,1,2,1,1,1,1,1,1,2,3,3,3,3,2,2,1,1]\n",
    "c = 0\n",
    "for i in x:\n",
    "    if i == 1:\n",
    "        c += 1\n",
    "print(c)"
   ]
  },
  {
   "cell_type": "code",
   "execution_count": 3,
   "metadata": {},
   "outputs": [
    {
     "name": "stdout",
     "output_type": "stream",
     "text": [
      "run\n",
      "run\n",
      "run\n",
      "run\n",
      "run\n",
      "run\n",
      "run\n",
      "run\n",
      "run\n",
      "stop\n"
     ]
    }
   ],
   "source": [
    "x=1\n",
    "while x<10:\n",
    "    print('run')\n",
    "    x+=1\n",
    "print('stop')"
   ]
  },
  {
   "cell_type": "code",
   "execution_count": 7,
   "metadata": {},
   "outputs": [
    {
     "name": "stdout",
     "output_type": "stream",
     "text": [
      "the sum is 55\n"
     ]
    }
   ],
   "source": [
    "n=10\n",
    "sum=0\n",
    "i=1\n",
    "while i<=n:\n",
    "    sum=sum+i\n",
    "    i=i+1\n",
    "print('the sum is',sum)"
   ]
  },
  {
   "cell_type": "code",
   "execution_count": 9,
   "metadata": {},
   "outputs": [
    {
     "name": "stdout",
     "output_type": "stream",
     "text": [
      "you continued running this loop\n",
      "you continued running this loop\n",
      "you continued running this loop\n",
      "you continued running this loop\n",
      "you continued running this loop\n",
      "you continued running this loop\n",
      "you continued running this loop\n",
      "you continued running this loop\n",
      "you continued running this loop\n"
     ]
    }
   ],
   "source": [
    "while input('continue?')=='y':\n",
    "    print('you continued running this loop')"
   ]
  },
  {
   "cell_type": "code",
   "execution_count": 10,
   "metadata": {},
   "outputs": [
    {
     "name": "stdout",
     "output_type": "stream",
     "text": [
      "you entered a place\n",
      "you entered a place\n",
      "you entered a place\n",
      "you entered a place\n",
      "you entered a place\n",
      "you entered a place\n"
     ]
    }
   ],
   "source": [
    "while len(input('name a place-'))>0:\n",
    "    print ('you entered a place')"
   ]
  },
  {
   "cell_type": "code",
   "execution_count": 13,
   "metadata": {},
   "outputs": [
    {
     "name": "stdout",
     "output_type": "stream",
     "text": [
      "99\n",
      "98\n",
      "97\n",
      "96\n"
     ]
    }
   ],
   "source": [
    "num=int(input('enter a number'))\n",
    "while num>0:\n",
    "    if num %5==0:\n",
    "        break\n",
    "    print(num)\n",
    "    num-=1"
   ]
  },
  {
   "cell_type": "code",
   "execution_count": 14,
   "metadata": {},
   "outputs": [],
   "source": [
    "story= ''\n",
    "while True:\n",
    "    line = input('enter a line')\n",
    "    if line =='':\n",
    "        break\n",
    "    story += line+'\\n'"
   ]
  },
  {
   "cell_type": "code",
   "execution_count": 15,
   "metadata": {},
   "outputs": [
    {
     "name": "stdout",
     "output_type": "stream",
     "text": [
      "there was a man\n",
      "and he will become a pirate king\n",
      "\n"
     ]
    }
   ],
   "source": [
    "print (story)"
   ]
  },
  {
   "cell_type": "code",
   "execution_count": 18,
   "metadata": {},
   "outputs": [
    {
     "name": "stdout",
     "output_type": "stream",
     "text": [
      "0\n",
      "2\n",
      "3\n",
      "2\n",
      "3\n",
      "12\n",
      "3\n",
      "2\n",
      "31\n"
     ]
    }
   ],
   "source": [
    "x=[1,0,2,3,1,2,3,12,3,1,2,31,]\n",
    "for i in x:\n",
    "    if i==1:\n",
    "        continue\n",
    "    print(i)"
   ]
  },
  {
   "cell_type": "code",
   "execution_count": 20,
   "metadata": {},
   "outputs": [
    {
     "name": "stdout",
     "output_type": "stream",
     "text": [
      "we have apple\n",
      "we have banana\n",
      "we have litchi\n",
      "lets eat\n"
     ]
    }
   ],
   "source": [
    "fruits=['apple','banana','litchi']\n",
    "for fruit in fruits:\n",
    "    print('we have',fruit)\n",
    "else:\n",
    "    print('lets eat') "
   ]
  },
  {
   "cell_type": "code",
   "execution_count": 4,
   "metadata": {},
   "outputs": [
    {
     "name": "stdout",
     "output_type": "stream",
     "text": [
      "looking at potato\n",
      "looking at onion\n",
      "looking at carrot\n",
      "looking at cucumber\n",
      "looking at tomato\n",
      "tomato found\n"
     ]
    }
   ],
   "source": [
    "vegs=['potato','onion','carrot','cucumber','tomato']\n",
    "for veg in vegs:\n",
    "    print(f'looking at {veg}')\n",
    "    if veg == 'tomato':\n",
    "        print('tomato found')\n",
    "        break\n",
    "else:\n",
    "    print('tomato not found')\n"
   ]
  },
  {
   "cell_type": "code",
   "execution_count": 33,
   "metadata": {},
   "outputs": [
    {
     "name": "stdout",
     "output_type": "stream",
     "text": [
      "7/2=1\n",
      "7/3=1\n",
      "7/4=3\n",
      "7/5=2\n",
      "7/6=1\n",
      "7 is a prime number\n"
     ]
    }
   ],
   "source": [
    "num = int(input('enter a num='))\n",
    "for i in range(2,num):\n",
    "    print(f'{num}/{i}={num%i}')\n",
    "    if num % i==0:\n",
    "        print(f'{num}is not a prime number')\n",
    "        break\n",
    "else:\n",
    "    print(f'{num} is a prime number')"
   ]
  },
  {
   "cell_type": "code",
   "execution_count": 5,
   "metadata": {},
   "outputs": [
    {
     "name": "stdout",
     "output_type": "stream",
     "text": [
      "0 potato\n",
      "1 onion\n",
      "2 carrot\n",
      "3 cucumber\n",
      "4 tomato\n"
     ]
    }
   ],
   "source": [
    "for idx, val in enumerate(vegs):\n",
    "    print(idx, val)"
   ]
  },
  {
   "cell_type": "code",
   "execution_count": 7,
   "metadata": {},
   "outputs": [
    {
     "name": "stdout",
     "output_type": "stream",
     "text": [
      "4 5 6 7 8 9 10 "
     ]
    }
   ],
   "source": [
    "x=[1,2,3,4,5,6,1]\n",
    "y=[2,1,3,2,1,2,1]\n",
    "z=[1,2,0,1,2,1,8]\n",
    "for i,j,k in zip(x,y,z):\n",
    "    print(i+j+k,end=' ')\n"
   ]
  }
 ],
 "metadata": {
  "interpreter": {
   "hash": "b0a99a3a1b08f3b675859fd980c5e7fc263a1ea38da90c587cb24e2b16c3baf4"
  },
  "kernelspec": {
   "display_name": "Python 3.9.12 ('base')",
   "language": "python",
   "name": "python3"
  },
  "language_info": {
   "codemirror_mode": {
    "name": "ipython",
    "version": 3
   },
   "file_extension": ".py",
   "mimetype": "text/x-python",
   "name": "python",
   "nbconvert_exporter": "python",
   "pygments_lexer": "ipython3",
   "version": "3.9.12"
  },
  "orig_nbformat": 4
 },
 "nbformat": 4,
 "nbformat_minor": 2
}
