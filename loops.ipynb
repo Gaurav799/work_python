{
 "cells": [
  {
   "cell_type": "markdown",
   "metadata": {},
   "source": [
    "FOR LOOP"
   ]
  },
  {
   "cell_type": "code",
   "execution_count": null,
   "metadata": {},
   "outputs": [],
   "source": [
    "print(1)\n",
    "print(2)\n",
    "print(3)\n",
    "print(4)\n",
    "print(5)\n",
    "print(6)\n",
    "print(7)\n",
    "print(8)\n",
    "print(9)\n",
    "print(10)\n",
    "print(11)\n",
    "print(12)\n",
    "print(13)\n",
    "print(14)\n",
    "print(15)\n",
    "print(16)\n",
    "print(17)\n",
    "print(18)\n",
    "print(19)\n",
    "print(20)\n",
    "print(21)\n",
    "print(22)\n",
    "print(23)\n",
    "print(24)\n",
    "print(25)\n",
    "print(26)\n",
    "print(27)\n",
    "print(28)\n",
    "print(29)\n",
    "print(30)\n",
    "print(31)\n",
    "print(32)\n",
    "print(33)\n",
    "print(34)\n",
    "print(35)\n",
    "print(36)\n",
    "print(37)\n",
    "print(38)\n",
    "print(39)\n",
    "print(40)"
   ]
  },
  {
   "cell_type": "code",
   "execution_count": 1,
   "metadata": {},
   "outputs": [
    {
     "name": "stdout",
     "output_type": "stream",
     "text": [
      "p\n",
      "y\n",
      "t\n",
      "h\n",
      "o\n",
      "n\n"
     ]
    }
   ],
   "source": [
    "x='python'\n",
    "for i in x:\n",
    "    print(i)"
   ]
  },
  {
   "cell_type": "code",
   "execution_count": 3,
   "metadata": {},
   "outputs": [
    {
     "name": "stdout",
     "output_type": "stream",
     "text": [
      "t\n",
      "h\n",
      "i\n",
      "s\n",
      " \n",
      "i\n",
      "s\n",
      " \n",
      "s\n",
      "p\n",
      "a\n",
      "r\n",
      "t\n",
      "a\n"
     ]
    }
   ],
   "source": [
    "word = 'this is sparta'\n",
    "for i in word:\n",
    "    print(i)"
   ]
  },
  {
   "cell_type": "code",
   "execution_count": 10,
   "metadata": {},
   "outputs": [
    {
     "name": "stdout",
     "output_type": "stream",
     "text": [
      "i have apple\n",
      "i have banana\n",
      "i have lemon\n"
     ]
    }
   ],
   "source": [
    "fruits = ['apple','banana','lemon']\n",
    "for item in fruits:\n",
    "    print(f'i have {item}')"
   ]
  },
  {
   "cell_type": "code",
   "execution_count": 16,
   "metadata": {},
   "outputs": [
    {
     "name": "stdout",
     "output_type": "stream",
     "text": [
      "0\n",
      "1\n",
      "2\n",
      "3\n",
      "4\n",
      "5\n",
      "6\n",
      "7\n",
      "8\n",
      "9\n",
      "10\n"
     ]
    }
   ],
   "source": [
    "for i in range(11):\n",
    "    print(i)"
   ]
  },
  {
   "cell_type": "code",
   "execution_count": 17,
   "metadata": {},
   "outputs": [
    {
     "name": "stdout",
     "output_type": "stream",
     "text": [
      "bat 2\n",
      "bat 3\n",
      "bat 4\n",
      "bat 5\n",
      "bat 6\n",
      "bat 7\n",
      "bat 8\n",
      "bat 9\n",
      "bat 10\n"
     ]
    }
   ],
   "source": [
    "for num in range(2,11):\n",
    "    print('bat',num)"
   ]
  },
  {
   "cell_type": "code",
   "execution_count": 18,
   "metadata": {},
   "outputs": [
    {
     "name": "stdout",
     "output_type": "stream",
     "text": [
      "level 1\n",
      "level 4\n",
      "level 7\n"
     ]
    }
   ],
   "source": [
    "for num in range(1,10,3):\n",
    "    print('level',num)"
   ]
  },
  {
   "cell_type": "code",
   "execution_count": 19,
   "metadata": {},
   "outputs": [
    {
     "name": "stdout",
     "output_type": "stream",
     "text": [
      "10\n",
      "9\n",
      "8\n",
      "7\n",
      "6\n",
      "5\n",
      "4\n",
      "3\n",
      "2\n",
      "1\n"
     ]
    }
   ],
   "source": [
    "for num in range(10,0,-1):\n",
    "    print(num)"
   ]
  },
  {
   "cell_type": "code",
   "execution_count": 21,
   "metadata": {},
   "outputs": [
    {
     "name": "stdout",
     "output_type": "stream",
     "text": [
      "\n",
      "na\n",
      "nana\n",
      "nanana\n",
      "nananana\n",
      "nanananana\n",
      "nananananana\n",
      "nanananananana\n",
      "nananananananana\n",
      "nanananananananana\n",
      "nananananananananana\n",
      "nanananananananananana\n",
      "nananananananananananana\n",
      "nanananananananananananana\n",
      "nananananananananananananana\n",
      "nanananananananananananananana\n",
      "nananananananananananananananana\n",
      "nanananananananananananananananana\n",
      "nananananananananananananananananana\n",
      "nanananananananananananananananananana\n",
      "nananananananananananananananananananana\n",
      "nanananananananananananananananananananana\n",
      "nananananananananananananananananananananana\n",
      "nanananananananananananananananananananananana\n",
      "nananananananananananananananananananananananana\n",
      "nanananananananananananananananananananananananana\n",
      "nananananananananananananananananananananananananana\n",
      "nanananananananananananananananananananananananananana\n",
      "nananananananananananananananananananananananananananana\n",
      "nanananananananananananananananananananananananananananana\n",
      "nananananananananananananananananananananananananananananana\n",
      "nanananananananananananananananananananananananananananananana\n",
      "nananananananananananananananananananananananananananananananana\n",
      "nanananananananananananananananananananananananananananananananana\n",
      "nananananananananananananananananananananananananananananananananana\n",
      "nanananananananananananananananananananananananananananananananananana\n",
      "nananananananananananananananananananananananananananananananananananana\n",
      "nanananananananananananananananananananananananananananananananananananana\n",
      "nananananananananananananananananananananananananananananananananananananana\n",
      "nanananananananananananananananananananananananananananananananananananananana\n",
      "nananananananananananananananananananananananananananananananananananananananana\n",
      "nanananananananananananananananananananananananananananananananananananananananana\n",
      "nananananananananananananananananananananananananananananananananananananananananana\n",
      "nanananananananananananananananananananananananananananananananananananananananananana\n",
      "nananananananananananananananananananananananananananananananananananananananananananana\n",
      "nanananananananananananananananananananananananananananananananananananananananananananana\n",
      "nananananananananananananananananananananananananananananananananananananananananananananana\n",
      "nanananananananananananananananananananananananananananananananananananananananananananananana\n",
      "nananananananananananananananananananananananananananananananananananananananananananananananana\n",
      "nanananananananananananananananananananananananananananananananananananananananananananananananana\n",
      "nananananananananananananananananananananananananananananananananananananananananananananananananana\n"
     ]
    }
   ],
   "source": [
    "for i in range(51):\n",
    "    print(i*'na')"
   ]
  },
  {
   "cell_type": "code",
   "execution_count": 22,
   "metadata": {},
   "outputs": [
    {
     "name": "stdout",
     "output_type": "stream",
     "text": [
      "15\n",
      "30\n",
      "45\n",
      "60\n",
      "75\n",
      "90\n"
     ]
    }
   ],
   "source": [
    "for num in range(1,101):\n",
    "    if num %3==0 and num %5==0:\n",
    "        print(num)"
   ]
  },
  {
   "cell_type": "code",
   "execution_count": 23,
   "metadata": {},
   "outputs": [
    {
     "name": "stdout",
     "output_type": "stream",
     "text": [
      "paris cointains 5 characters\n",
      "london cointains 6 characters\n",
      "new york cointains 8 characters\n",
      "madrid cointains 6 characters\n",
      "rome cointains 4 characters\n"
     ]
    }
   ],
   "source": [
    "places=['paris','london','new york','madrid','rome']\n",
    "for place in places:\n",
    "    print(f'{place} cointains {len(place)} characters')"
   ]
  },
  {
   "cell_type": "code",
   "execution_count": 31,
   "metadata": {},
   "outputs": [
    {
     "name": "stdout",
     "output_type": "stream",
     "text": [
      "19\n"
     ]
    }
   ],
   "source": [
    "x = [1,2,3,1,2,1,2,3,1,2,3,1,1,1,1,3,2,1,1,1,2,1,1,1,1,1,1,2,3,3,3,3,2,2,1,1]\n",
    "c = 0\n",
    "for i in x:\n",
    "    if i == 1:\n",
    "        c += 1\n",
    "print(c)"
   ]
  },
  {
   "cell_type": "code",
   "execution_count": null,
   "metadata": {},
   "outputs": [],
   "source": []
  }
 ],
 "metadata": {
  "interpreter": {
   "hash": "b0a99a3a1b08f3b675859fd980c5e7fc263a1ea38da90c587cb24e2b16c3baf4"
  },
  "kernelspec": {
   "display_name": "Python 3.9.12 ('base')",
   "language": "python",
   "name": "python3"
  },
  "language_info": {
   "codemirror_mode": {
    "name": "ipython",
    "version": 3
   },
   "file_extension": ".py",
   "mimetype": "text/x-python",
   "name": "python",
   "nbconvert_exporter": "python",
   "pygments_lexer": "ipython3",
   "version": "3.9.12"
  },
  "orig_nbformat": 4
 },
 "nbformat": 4,
 "nbformat_minor": 2
}
