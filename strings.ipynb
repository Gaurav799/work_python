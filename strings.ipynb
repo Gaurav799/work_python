{
 "cells": [
  {
   "cell_type": "code",
   "execution_count": 14,
   "metadata": {},
   "outputs": [],
   "source": [
    "name = 'Gaurav Singh'"
   ]
  },
  {
   "cell_type": "code",
   "execution_count": 6,
   "metadata": {},
   "outputs": [
    {
     "data": {
      "text/plain": [
       "12"
      ]
     },
     "execution_count": 6,
     "metadata": {},
     "output_type": "execute_result"
    }
   ],
   "source": [
    "len(name)"
   ]
  },
  {
   "cell_type": "code",
   "execution_count": 10,
   "metadata": {},
   "outputs": [
    {
     "data": {
      "text/plain": [
       "'G'"
      ]
     },
     "execution_count": 10,
     "metadata": {},
     "output_type": "execute_result"
    }
   ],
   "source": [
    "name[0]"
   ]
  },
  {
   "cell_type": "code",
   "execution_count": 13,
   "metadata": {},
   "outputs": [
    {
     "data": {
      "text/plain": [
       "'Singh'"
      ]
     },
     "execution_count": 13,
     "metadata": {},
     "output_type": "execute_result"
    }
   ],
   "source": [
    "name[7]+name[8]+name[9]+name[10]+name[11]"
   ]
  },
  {
   "cell_type": "code",
   "execution_count": 15,
   "metadata": {},
   "outputs": [
    {
     "name": "stdout",
     "output_type": "stream",
     "text": [
      "no\n"
     ]
    }
   ],
   "source": [
    "s='lucknow'\n",
    "slice1= s[4:6]\n",
    "print(slice1)"
   ]
  },
  {
   "cell_type": "code",
   "execution_count": 17,
   "metadata": {},
   "outputs": [
    {
     "name": "stdout",
     "output_type": "stream",
     "text": [
      "Gaurav\n"
     ]
    }
   ],
   "source": [
    "abc = name[0:6]\n",
    "print(abc)"
   ]
  },
  {
   "cell_type": "code",
   "execution_count": 19,
   "metadata": {},
   "outputs": [
    {
     "name": "stdout",
     "output_type": "stream",
     "text": [
      "Deenanath\n"
     ]
    }
   ],
   "source": [
    "name='Vijay Deenanath Chauhan'\n",
    "slice= name[6:15]\n",
    "print(slice)"
   ]
  },
  {
   "cell_type": "code",
   "execution_count": 23,
   "metadata": {},
   "outputs": [
    {
     "name": "stdout",
     "output_type": "stream",
     "text": [
      "Chauhan\n"
     ]
    }
   ],
   "source": [
    "slice2=name[-7:len(name)]\n",
    "print(slice2)"
   ]
  },
  {
   "cell_type": "code",
   "execution_count": 24,
   "metadata": {},
   "outputs": [
    {
     "name": "stdout",
     "output_type": "stream",
     "text": [
      "Vijay\n",
      "Vijay\n"
     ]
    }
   ],
   "source": [
    "slice3= name[0:5]\n",
    "slice4= name[:5]\n",
    "print(slice3)\n",
    "print(slice4)"
   ]
  },
  {
   "cell_type": "code",
   "execution_count": 33,
   "metadata": {},
   "outputs": [
    {
     "name": "stdout",
     "output_type": "stream",
     "text": [
      "Deenanath Chauhan\n",
      "Deenanath Chauhan\n"
     ]
    }
   ],
   "source": [
    "slice1= name[6:]\n",
    "slice2= name[6:len(name)]\n",
    "print(slice1)\n",
    "print(slice2)"
   ]
  },
  {
   "cell_type": "code",
   "execution_count": 41,
   "metadata": {},
   "outputs": [
    {
     "name": "stdout",
     "output_type": "stream",
     "text": [
      "ᙣ\n",
      "だ\n",
      "뉦\n"
     ]
    }
   ],
   "source": [
    "x= chr(5731)\n",
    "print(x)\n",
    "y= chr(12384)\n",
    "print(y)\n",
    "z= chr(45670)\n",
    "print(z)"
   ]
  },
  {
   "cell_type": "code",
   "execution_count": 48,
   "metadata": {},
   "outputs": [
    {
     "name": "stdout",
     "output_type": "stream",
     "text": [
      "⻠    ⻧    ⻮    ⻵    ⻼    ⼃    ⼊    ⼑    ⼘    ⼟    ⼦    ⼭    ⼴    ⼻    ⽂    ⽉    ⽐    ⽗    ⽞    ⽥    ⽬    ⽳    ⽺    ⾁    ⾈    ⾏    ⾖    ⾝    ⾤    ⾫    ⾲    ⾹    ⿀    ⿇    ⿎    ⿕    ⿜    ⿣    ⿪    ⿱    ⿸    ⿿    〆    」    〔    〛    〢    〩    〰    〷    〾    ぅ    が    こ    ず    ち    と    は    ぶ    ぽ    や    る    を    ゙    ゠    ェ    ギ    サ    ゼ    ッ    ナ    パ    ヘ    ミ    ユ    ロ    ヴ    ・    ㄂    ㄉ    ㄐ    ㄗ    ㄞ    ㄥ    ㄬ    ㄳ    ㄺ    ㅁ    ㅈ    ㅏ    ㅖ    ㅝ    ㅤ    ㅫ    ㅲ    ㅹ    ㆀ    ㆇ    ㆎ    ㆕    ㆜    ㆣ    ㆪ    ㆱ    ㆸ    ㆿ    ㇆    ㇍    ㇔    ㇛    ㇢    ㇩    ㇰ    ㇷ    ㇾ    ㈅    ㈌    ㈓    ㈚    ㈡    ㈨    ㈯    ㈶    ㈽    ㉄    ㉋    ㉒    ㉙    ㉠    ㉧    ㉮    ㉵    ㉼    ㊃    ㊊    ㊑    ㊘    ㊟    ㊦    ㊭    ㊴    ㊻    ㋂    ㋉    ㋐    ㋗    ㋞    ㋥    ㋬    ㋳    ㋺    ㌁    ㌈    ㌏    ㌖    ㌝    ㌤    ㌫    ㌲    ㌹    ㍀    ㍇    ㍎    ㍕    ㍜    ㍣    ㍪    ㍱    ㍸    ㍿    ㎆    ㎍    ㎔    ㎛    ㎢    ㎩    ㎰    ㎷    ㎾    ㏅    ㏌    ㏓    ㏚    ㏡    ㏨    ㏯    ㏶    ㏽    㐄    㐋    㐒    㐙    㐠    㐧    㐮    㐵    㐼    㑃    㑊    㑑    㑘    㑟    㑦    㑭    㑴    㑻    㒂    㒉    㒐    㒗    㒞    㒥    㒬    㒳    㒺    㓁    㓈    㓏    㓖    㓝    㓤    㓫    㓲    㓹    㔀    㔇    㔎    㔕    㔜    㔣    㔪    㔱    㔸    㔿    㕆    㕍    㕔    㕛    㕢    㕩    㕰    㕷    㕾    㖅    㖌    㖓    㖚    㖡    㖨    㖯    㖶    㖽    㗄    㗋    㗒    㗙    㗠    㗧    㗮    㗵    㗼    㘃    㘊    㘑    㘘    㘟    㘦    㘭    㘴    㘻    㙂    㙉    㙐    㙗    㙞    㙥    㙬    㙳    㙺    㚁    㚈    㚏    㚖    㚝    㚤    㚫    㚲    㚹    㛀    㛇    㛎    㛕    㛜    㛣    㛪    㛱    㛸    㛿    㜆    㜍    㜔    㜛    㜢    㜩    㜰    㜷    㜾    㝅    㝌    㝓    㝚    㝡    㝨    㝯    㝶    㝽    㞄    㞋    㞒    㞙    㞠    㞧    㞮    㞵    㞼    㟃    㟊    㟑    㟘    㟟    㟦    㟭    㟴    㟻    㠂    㠉    㠐    㠗    㠞    㠥    㠬    㠳    㠺    㡁    㡈    㡏    㡖    㡝    㡤    㡫    㡲    㡹    㢀    㢇    㢎    㢕    㢜    㢣    㢪    㢱    㢸    㢿    㣆    㣍    㣔    㣛    㣢    㣩    㣰    㣷    㣾    㤅    㤌    㤓    㤚    㤡    㤨    㤯    㤶    㤽    㥄    㥋    㥒    㥙    㥠    㥧    㥮    㥵    㥼    㦃    㦊    㦑    㦘    㦟    㦦    㦭    㦴    㦻    㧂    㧉    㧐    㧗    㧞    㧥    㧬    㧳    㧺    㨁    㨈    㨏    㨖    㨝    㨤    㨫    㨲    㨹    㩀    㩇    㩎    㩕    㩜    㩣    㩪    㩱    㩸    㩿    㪆    㪍    㪔    㪛    㪢    㪩    㪰    㪷    㪾    㫅    㫌    㫓    㫚    㫡    㫨    㫯    㫶    㫽    㬄    㬋    㬒    㬙    㬠    㬧    㬮    㬵    㬼    㭃    㭊    㭑    㭘    㭟    㭦    㭭    㭴    㭻    㮂    㮉    㮐    㮗    㮞    㮥    㮬    㮳    㮺    㯁    㯈    㯏    㯖    㯝    㯤    㯫    㯲    㯹    㰀    㰇    㰎    㰕    㰜    㰣    㰪    㰱    㰸    㰿    㱆    㱍    㱔    㱛    㱢    㱩    㱰    㱷    㱾    㲅    㲌    㲓    㲚    㲡    㲨    㲯    㲶    㲽    㳄    㳋    㳒    㳙    㳠    㳧    㳮    㳵    㳼    㴃    㴊    㴑    㴘    㴟    㴦    㴭    㴴    㴻    㵂    㵉    㵐    㵗    㵞    㵥    㵬    㵳    㵺    㶁    㶈    㶏    㶖    㶝    㶤    㶫    㶲    㶹    㷀    㷇    㷎    㷕    㷜    㷣    㷪    㷱    㷸    㷿    㸆    㸍    㸔    㸛    㸢    㸩    㸰    㸷    㸾    㹅    㹌    㹓    㹚    㹡    㹨    㹯    㹶    㹽    㺄    㺋    㺒    㺙    㺠    㺧    㺮    㺵    㺼    㻃    㻊    㻑    㻘    㻟    㻦    㻭    㻴    㻻    㼂    㼉    㼐    㼗    㼞    㼥    㼬    㼳    㼺    㽁    㽈    㽏    㽖    㽝    㽤    㽫    㽲    㽹    㾀    㾇    㾎    㾕    㾜    㾣    㾪    㾱    㾸    㾿    㿆    㿍    㿔    㿛    㿢    㿩    㿰    㿷    㿾    䀅    䀌    䀓    䀚    䀡    䀨    䀯    䀶    䀽    䁄    䁋    䁒    䁙    䁠    䁧    䁮    䁵    䁼    䂃    䂊    䂑    䂘    䂟    䂦    䂭    䂴    䂻    䃂    䃉    䃐    䃗    䃞    䃥    䃬    䃳    䃺    䄁    䄈    䄏    䄖    䄝    䄤    䄫    䄲    䄹    䅀    䅇    䅎    䅕    䅜    䅣    䅪    䅱    䅸    䅿    䆆    䆍    䆔    䆛    䆢    䆩    䆰    䆷    䆾    䇅    䇌    䇓    䇚    䇡    䇨    䇯    䇶    䇽    䈄    䈋    䈒    䈙    䈠    䈧    䈮    䈵    䈼    䉃    䉊    䉑    䉘    䉟    䉦    䉭    䉴    䉻    䊂    䊉    䊐    䊗    䊞    䊥    䊬    䊳    䊺    䋁    䋈    䋏    䋖    䋝    䋤    䋫    䋲    䋹    䌀    䌇    䌎    䌕    䌜    䌣    䌪    䌱    䌸    䌿    䍆    䍍    䍔    䍛    䍢    䍩    䍰    䍷    䍾    䎅    䎌    䎓    䎚    䎡    䎨    䎯    䎶    䎽    䏄    䏋    䏒    䏙    䏠    䏧    䏮    䏵    䏼    䐃    䐊    䐑    䐘    䐟    䐦    䐭    䐴    䐻    䑂    䑉    䑐    䑗    䑞    䑥    䑬    䑳    䑺    䒁    䒈    䒏    䒖    䒝    䒤    䒫    䒲    䒹    䓀    䓇    䓎    䓕    䓜    䓣    䓪    䓱    䓸    䓿    䔆    䔍    䔔    䔛    䔢    䔩    䔰    䔷    䔾    䕅    䕌    䕓    䕚    䕡    䕨    䕯    䕶    䕽    䖄    䖋    䖒    䖙    䖠    䖧    䖮    䖵    䖼    䗃    䗊    䗑    䗘    䗟    䗦    䗭    䗴    䗻    䘂    䘉    䘐    䘗    䘞    䘥    䘬    䘳    䘺    䙁    䙈    䙏    䙖    䙝    䙤    䙫    䙲    䙹    䚀    䚇    䚎    䚕    䚜    䚣    䚪    䚱    䚸    䚿    䛆    䛍    䛔    䛛    䛢    䛩    䛰    䛷    䛾    䜅    䜌    䜓    䜚    䜡    䜨    䜯    䜶    䜽    䝄    䝋    䝒    䝙    䝠    䝧    䝮    䝵    䝼    䞃    䞊    䞑    䞘    䞟    䞦    䞭    䞴    䞻    䟂    䟉    䟐    䟗    䟞    䟥    䟬    䟳    䟺    䠁    䠈    䠏    䠖    䠝    䠤    䠫    䠲    䠹    䡀    䡇    䡎    䡕    䡜    䡣    䡪    䡱    䡸    䡿    䢆    䢍    䢔    䢛    䢢    䢩    䢰    䢷    䢾    䣅    䣌    䣓    䣚    䣡    䣨    䣯    䣶    䣽    䤄    䤋    䤒    䤙    䤠    䤧    䤮    䤵    䤼    䥃    䥊    䥑    䥘    䥟    䥦    䥭    䥴    䥻    䦂    䦉    䦐    䦗    䦞    䦥    䦬    䦳    䦺    䧁    䧈    䧏    䧖    䧝    䧤    䧫    䧲    䧹    䨀    䨇    䨎    䨕    䨜    䨣    䨪    䨱    䨸    䨿    䩆    䩍    䩔    䩛    䩢    䩩    䩰    䩷    䩾    䪅    䪌    䪓    䪚    䪡    䪨    䪯    䪶    䪽    䫄    䫋    䫒    䫙    䫠    䫧    䫮    䫵    䫼    䬃    䬊    䬑    䬘    䬟    䬦    䬭    䬴    䬻    䭂    䭉    䭐    䭗    䭞    䭥    䭬    䭳    䭺    䮁    䮈    䮏    䮖    䮝    䮤    䮫    䮲    䮹    䯀    䯇    䯎    䯕    䯜    䯣    䯪    䯱    䯸    䯿    䰆    䰍    䰔    䰛    䰢    䰩    䰰    䰷    䰾    䱅    䱌    䱓    䱚    䱡    䱨    䱯    䱶    䱽    䲄    䲋    䲒    䲙    䲠    䲧    䲮    䲵    䲼    䳃    䳊    䳑    䳘    䳟    䳦    䳭    䳴    䳻    䴂    䴉    䴐    䴗    䴞    䴥    䴬    䴳    䴺    䵁    䵈    䵏    䵖    䵝    䵤    䵫    䵲    䵹    䶀    䶇    䶎    䶕    䶜    䶣    䶪    䶱    䶸    䶿    ䷆    ䷍    ䷔    ䷛    ䷢    ䷩    ䷰    ䷷    ䷾    丅    丌    专    业    両    丨    丯    丶    丽    乄    之    乒    乙    习    乧    乮    乵    乼    亃    亊    云    亘    亟    亦    亭    亴    亻    仂    仉    仐    仗    仞    以    们    仳    仺    企    伈    伏    伖    伝    伤    伫    伲    伹    佀    佇    低    何    作    佣    佪    佱    佸    使    來    侍    侔    供    侢    侩    侰    侷    侾    俅    俌    俓    俚    信    俨    俯    俶    俽    倄    個    倒    候    倠    倧    倮    倵    值    偃    偊    偑    偘    偟    偦    偭    側    偻    傂    傉    傐    傗    傞    傥    催    傳    傺    僁    僈    像    僖    僝    僤    僫    僲    價    儀    儇    儎    儕    儜    儣    優    儱    儸    儿    兆    免    兔    兛    兢    兩    兰    具    兾    内    册    冓    冚    冡    冨    冯    冶    冽    凄    凋    凒    凙    几    凧    凮    凵    凼    刃    "
     ]
    }
   ],
   "source": [
    "for i in range(12000,21000,7):\n",
    "    print(chr(i),end='    ')"
   ]
  },
  {
   "cell_type": "code",
   "execution_count": 55,
   "metadata": {},
   "outputs": [
    {
     "name": "stdout",
     "output_type": "stream",
     "text": [
      "71\n",
      "97\n",
      "117\n",
      "114\n",
      "97\n",
      "118\n"
     ]
    }
   ],
   "source": [
    "a= ord('G')\n",
    "print(a)\n",
    "b= ord('a')\n",
    "print(b)\n",
    "c= ord('u')\n",
    "print(c)\n",
    "d= ord('r')\n",
    "print(d)\n",
    "e= ord('a')\n",
    "print(e)\n",
    "f= ord('v')\n",
    "print(f)"
   ]
  },
  {
   "cell_type": "code",
   "execution_count": 56,
   "metadata": {},
   "outputs": [
    {
     "name": "stdout",
     "output_type": "stream",
     "text": [
      "AppleJuice\n"
     ]
    }
   ],
   "source": [
    "a= ('Apple')\n",
    "b= ('Juice')\n",
    "ab= a+b\n",
    "print(ab)"
   ]
  },
  {
   "cell_type": "code",
   "execution_count": 60,
   "metadata": {},
   "outputs": [
    {
     "name": "stdout",
     "output_type": "stream",
     "text": [
      "Help  Me\n"
     ]
    }
   ],
   "source": [
    "a='Help'\n",
    "b='Me'\n",
    "ab= a + '  ' + b\n",
    "print(ab)"
   ]
  },
  {
   "cell_type": "code",
   "execution_count": 61,
   "metadata": {},
   "outputs": [
    {
     "name": "stdout",
     "output_type": "stream",
     "text": [
      "Hello_Hello_Hello_Hello_Hello_\n"
     ]
    }
   ],
   "source": [
    "z='Hello_'\n",
    "print(z*5)"
   ]
  }
 ],
 "metadata": {
  "kernelspec": {
   "display_name": "Python 3.9.12 ('base')",
   "language": "python",
   "name": "python3"
  },
  "language_info": {
   "codemirror_mode": {
    "name": "ipython",
    "version": 3
   },
   "file_extension": ".py",
   "mimetype": "text/x-python",
   "name": "python",
   "nbconvert_exporter": "python",
   "pygments_lexer": "ipython3",
   "version": "3.9.12"
  },
  "orig_nbformat": 4,
  "vscode": {
   "interpreter": {
    "hash": "b0a99a3a1b08f3b675859fd980c5e7fc263a1ea38da90c587cb24e2b16c3baf4"
   }
  }
 },
 "nbformat": 4,
 "nbformat_minor": 2
}
