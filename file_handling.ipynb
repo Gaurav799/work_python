{
 "cells": [
  {
   "cell_type": "markdown",
   "metadata": {},
   "source": [
    "# File Handling"
   ]
  },
  {
   "cell_type": "code",
   "execution_count": 1,
   "metadata": {},
   "outputs": [],
   "source": [
    "f=open('example2.py')\n",
    "content=f.read()\n",
    "f.close()"
   ]
  },
  {
   "cell_type": "code",
   "execution_count": 2,
   "metadata": {},
   "outputs": [
    {
     "name": "stdout",
     "output_type": "stream",
     "text": [
      "from turtle import *\n",
      "\n",
      "s = getscreen()\n",
      "t = Turtle()\n",
      "\n",
      "for i in range(5):\n",
      "    t.fd (100)\n",
      "    t.lt (72)\n",
      "mainloop()\n"
     ]
    }
   ],
   "source": [
    "print(content)"
   ]
  },
  {
   "cell_type": "code",
   "execution_count": 3,
   "metadata": {},
   "outputs": [],
   "source": [
    "f=open(r'example.py')\n",
    "content=f.read()\n",
    "f.close()"
   ]
  },
  {
   "cell_type": "code",
   "execution_count": 4,
   "metadata": {},
   "outputs": [
    {
     "name": "stdout",
     "output_type": "stream",
     "text": [
      "from turtle import*\n",
      "\n",
      "forward(90)\n",
      "left(36)\n",
      "forward(90)\n",
      "left(36)\n",
      "forward(90)\n",
      "left(36)\n",
      "forward(90)\n",
      "left(36)\n",
      "forward(90)\n",
      "left(36)\n",
      "forward(90)\n",
      "left(36)\n",
      "forward(90)\n",
      "left(36)\n",
      "forward(90)\n",
      "left(36)\n",
      "forward(90)\n",
      "left(36)\n",
      "forward(90)\n",
      "left(36)\n",
      "\n",
      "mainloop()\n"
     ]
    }
   ],
   "source": [
    "print(content)"
   ]
  },
  {
   "cell_type": "code",
   "execution_count": 6,
   "metadata": {},
   "outputs": [
    {
     "name": "stdout",
     "output_type": "stream",
     "text": [
      "from turtle import *\n",
      "\n",
      "t = Turtle()\n",
      "t.speed('fast')\n",
      "bgcolor('red')\n",
      "t.color('blue')\n",
      "t.pensize(14)\n",
      "for i in range(1,201,3):\n",
      "    t.fd(i)\n",
      "    t.lt(60)\n",
      "\n",
      "mainloop()\n"
     ]
    }
   ],
   "source": [
    "with open('example4.py')as file:\n",
    "    print(file.read())"
   ]
  },
  {
   "cell_type": "code",
   "execution_count": 8,
   "metadata": {},
   "outputs": [],
   "source": [
    "kahani=\"Once uponatime,there was planet that was green,and blue,the end\"\n",
    "file=open('kahani1.txt','w')\n",
    "file.write(kahani)\n",
    "file.close()"
   ]
  },
  {
   "cell_type": "code",
   "execution_count": 12,
   "metadata": {},
   "outputs": [],
   "source": [
    "info =input('enter the info:')\n",
    "with open('info.txt','w') as f:\n",
    "    f.write(info)\n",
    "    f.write('\\n')\n",
    "    f.write('author\\n')\n",
    "    f.write('Gaurav Singh')"
   ]
  },
  {
   "cell_type": "code",
   "execution_count": 14,
   "metadata": {},
   "outputs": [],
   "source": [
    "data=input(\"enter the content\")\n",
    "with open('kahani1.txt','a') as f:\n",
    "    f.write(\"\\n\"+data)"
   ]
  }
 ],
 "metadata": {
  "kernelspec": {
   "display_name": "Python 3.9.12 ('base')",
   "language": "python",
   "name": "python3"
  },
  "language_info": {
   "codemirror_mode": {
    "name": "ipython",
    "version": 3
   },
   "file_extension": ".py",
   "mimetype": "text/x-python",
   "name": "python",
   "nbconvert_exporter": "python",
   "pygments_lexer": "ipython3",
   "version": "3.9.12"
  },
  "orig_nbformat": 4,
  "vscode": {
   "interpreter": {
    "hash": "b0a99a3a1b08f3b675859fd980c5e7fc263a1ea38da90c587cb24e2b16c3baf4"
   }
  }
 },
 "nbformat": 4,
 "nbformat_minor": 2
}
