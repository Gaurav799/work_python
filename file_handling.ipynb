{
 "cells": [
  {
   "cell_type": "markdown",
   "metadata": {},
   "source": [
    "# File Handling"
   ]
  },
  {
   "cell_type": "code",
   "execution_count": 4,
   "metadata": {},
   "outputs": [],
   "source": [
    "f=open('example2.py')\n",
    "content=f.read()\n",
    "f.close()"
   ]
  },
  {
   "cell_type": "code",
   "execution_count": 5,
   "metadata": {},
   "outputs": [
    {
     "name": "stdout",
     "output_type": "stream",
     "text": [
      "from turtle import *\n",
      "\n",
      "s = getscreen()\n",
      "t = Turtle()\n",
      "\n",
      "for i in range(5):\n",
      "    t.fd (100)\n",
      "    t.lt (72)\n",
      "mainloop()\n"
     ]
    }
   ],
   "source": [
    "print(content)"
   ]
  },
  {
   "cell_type": "code",
   "execution_count": 6,
   "metadata": {},
   "outputs": [],
   "source": [
    "f=open(r'example.py')\n",
    "content=f.read()\n",
    "f.close()"
   ]
  },
  {
   "cell_type": "code",
   "execution_count": 7,
   "metadata": {},
   "outputs": [
    {
     "name": "stdout",
     "output_type": "stream",
     "text": [
      "from turtle import*\n",
      "\n",
      "forward(90)\n",
      "left(36)\n",
      "forward(90)\n",
      "left(36)\n",
      "forward(90)\n",
      "left(36)\n",
      "forward(90)\n",
      "left(36)\n",
      "forward(90)\n",
      "left(36)\n",
      "forward(90)\n",
      "left(36)\n",
      "forward(90)\n",
      "left(36)\n",
      "forward(90)\n",
      "left(36)\n",
      "forward(90)\n",
      "left(36)\n",
      "forward(90)\n",
      "left(36)\n",
      "\n",
      "mainloop()\n"
     ]
    }
   ],
   "source": [
    "print(content)"
   ]
  },
  {
   "cell_type": "code",
   "execution_count": 8,
   "metadata": {},
   "outputs": [
    {
     "name": "stdout",
     "output_type": "stream",
     "text": [
      "from turtle import *\n",
      "\n",
      "t = Turtle()\n",
      "t.speed('fast')\n",
      "bgcolor('red')\n",
      "t.color('blue')\n",
      "t.pensize(14)\n",
      "for i in range(1,201,3):\n",
      "    t.fd(i)\n",
      "    t.lt(60)\n",
      "\n",
      "mainloop()\n"
     ]
    }
   ],
   "source": [
    "with open('example4.py')as file:\n",
    "    print(file.read())"
   ]
  },
  {
   "cell_type": "code",
   "execution_count": 9,
   "metadata": {},
   "outputs": [],
   "source": [
    "kahani=\"Once uponatime,there was planet that was green,and blue,the end\"\n",
    "file=open('kahani1.txt','w')\n",
    "file.write(kahani)\n",
    "file.close()"
   ]
  },
  {
   "cell_type": "code",
   "execution_count": 10,
   "metadata": {},
   "outputs": [],
   "source": [
    "info =input('enter the info:')\n",
    "with open('info.txt','w') as f:\n",
    "    f.write(info)\n",
    "    f.write('\\n')\n",
    "    f.write('author\\n')\n",
    "    f.write('Gaurav Singh')"
   ]
  },
  {
   "cell_type": "code",
   "execution_count": null,
   "metadata": {},
   "outputs": [],
   "source": [
    "data=input(\"enter the content\")\n",
    "with open('kahani1.txt','a') as f:\n",
    "    f.write(\"\\n\"+data)"
   ]
  },
  {
   "cell_type": "code",
   "execution_count": null,
   "metadata": {},
   "outputs": [],
   "source": [
    "from dputils import files"
   ]
  },
  {
   "cell_type": "code",
   "execution_count": null,
   "metadata": {},
   "outputs": [
    {
     "data": {
      "text/plain": [
       "'{\\n \"cells\": [\\n  {\\n   \"cell_type\": \"code\",\\n   \"execution_count\": 10,\\n   \"metadata\": {},\\n   \"outputs\": [],\\n   \"source\": [\\n    \"movies = [\\'avatar\\',\\'khiladi\\',\\'kgf\\',\\'radhe shyam\\',\\'rrr\\']\"\\n   ]\\n  },\\n  {\\n   \"cell_type\": \"code\",\\n   \"execution_count\": 11,\\n   \"metadata\": {},\\n   \"outputs\": [\\n    {\\n     \"data\": {\\n      \"text/plain\": [\\n       \"\\'avatar\\'\"\\n      ]\\n     },\\n     \"execution_count\": 11,\\n     \"metadata\": {},\\n     \"output_type\": \"execute_result\"\\n    }\\n   ],\\n   \"source\": [\\n    \"movies[0]\"\\n   ]\\n  },\\n  {\\n   \"cell_type\": \"code\",\\n   \"execution_count\": 12,\\n   \"metadata\": {},\\n   \"outputs\": [\\n    {\\n     \"data\": {\\n      \"text/plain\": [\\n       \"\\'rrr\\'\"\\n      ]\\n     },\\n     \"execution_count\": 12,\\n     \"metadata\": {},\\n     \"output_type\": \"execute_result\"\\n    }\\n   ],\\n   \"source\": [\\n    \"movies[-1]\"\\n   ]\\n  },\\n  {\\n   \"cell_type\": \"code\",\\n   \"execution_count\": 13,\\n   \"metadata\": {},\\n   \"outputs\": [\\n    {\\n     \"data\": {\\n      \"text/plain\": [\\n       \"\\'kgf\\'\"\\n      ]\\n     },\\n     \"execution_count\": 13,\\n     \"metadata\": {},\\n     \"output_type\": \"execute_result\"\\n    }\\n   ],\\n   \"source\": [\\n    \"movies[-3]\"\\n   ]\\n  },\\n  {\\n   \"cell_type\": \"code\",\\n   \"execution_count\": 14,\\n   \"metadata\": {},\\n   \"outputs\": [\\n    {\\n     \"data\": {\\n      \"text/plain\": [\\n       \"\\'rrr\\'\"\\n      ]\\n     },\\n     \"execution_count\": 14,\\n     \"metadata\": {},\\n     \"output_type\": \"execute_result\"\\n    }\\n   ],\\n   \"source\": [\\n    \"movies[4]\"\\n   ]\\n  },\\n  {\\n   \"cell_type\": \"code\",\\n   \"execution_count\": 15,\\n   \"metadata\": {},\\n   \"outputs\": [],\\n   \"source\": [\\n    \"movies[0]=\\'acharya\\'\"\\n   ]\\n  },\\n  {\\n   \"cell_type\": \"code\",\\n   \"execution_count\": 16,\\n   \"metadata\": {},\\n   \"outputs\": [\\n    {\\n     \"data\": {\\n      \"text/plain\": [\\n       \"[\\'acharya\\', \\'khiladi\\', \\'kgf\\', \\'radhe shyam\\', \\'rrr\\']\"\\n      ]\\n     },\\n     \"execution_count\": 16,\\n     \"metadata\": {},\\n     \"output_type\": \"execute_result\"\\n    }\\n   ],\\n   \"source\": [\\n    \"movies\"\\n   ]\\n  },\\n  {\\n   \"cell_type\": \"code\",\\n   \"execution_count\": 17,\\n   \"metadata\": {},\\n   \"outputs\": [\\n    {\\n     \"data\": {\\n      \"text/plain\": [\\n       \"[\\'acharya\\', \\'khiladi\\', \\'kgf\\']\"\\n      ]\\n     },\\n     \"execution_count\": 17,\\n     \"metadata\": {},\\n     \"output_type\": \"execute_result\"\\n    }\\n   ],\\n   \"source\": [\\n    \"movies[:3]\"\\n   ]\\n  },\\n  {\\n   \"cell_type\": \"code\",\\n   \"execution_count\": 18,\\n   \"metadata\": {},\\n   \"outputs\": [\\n    {\\n     \"data\": {\\n      \"text/plain\": [\\n       \"[\\'kgf\\', \\'radhe shyam\\', \\'rrr\\']\"\\n      ]\\n     },\\n     \"execution_count\": 18,\\n     \"metadata\": {},\\n     \"output_type\": \"execute_result\"\\n    }\\n   ],\\n   \"source\": [\\n    \"movies[-3:]\"\\n   ]\\n  },\\n  {\\n   \"cell_type\": \"code\",\\n   \"execution_count\": 19,\\n   \"metadata\": {},\\n   \"outputs\": [\\n    {\\n     \"data\": {\\n      \"text/plain\": [\\n       \"[\\'khiladi\\', \\'radhe shyam\\']\"\\n      ]\\n     },\\n     \"execution_count\": 19,\\n     \"metadata\": {},\\n     \"output_type\": \"execute_result\"\\n    }\\n   ],\\n   \"source\": [\\n    \"movies[1::2]\"\\n   ]\\n  },\\n  {\\n   \"cell_type\": \"code\",\\n   \"execution_count\": 20,\\n   \"metadata\": {},\\n   \"outputs\": [\\n    {\\n     \"data\": {\\n      \"text/plain\": [\\n       \"[\\'rrr\\', \\'radhe shyam\\', \\'kgf\\', \\'khiladi\\', \\'acharya\\']\"\\n      ]\\n     },\\n     \"execution_count\": 20,\\n     \"metadata\": {},\\n     \"output_type\": \"execute_result\"\\n    }\\n   ],\\n   \"source\": [\\n    \"movies[::-1]\"\\n   ]\\n  },\\n  {\\n   \"cell_type\": \"code\",\\n   \"execution_count\": 25,\\n   \"metadata\": {},\\n   \"outputs\": [\\n    {\\n     \"name\": \"stdout\",\\n     \"output_type\": \"stream\",\\n     \"text\": [\\n      \"I have watched acharya\\\\n\",\\n      \"I have watched khiladi\\\\n\",\\n      \"I have watched kgf\\\\n\",\\n      \"I have watched radhe shyam\\\\n\",\\n      \"I have watched rrr\\\\n\"\\n     ]\\n    }\\n   ],\\n   \"source\": [\\n    \"for movie in movies:\\\\n\",\\n    \"    print(\\'I have watched \\'+  movie)\"\\n   ]\\n  },\\n  {\\n   \"cell_type\": \"code\",\\n   \"execution_count\": 28,\\n   \"metadata\": {},\\n   \"outputs\": [\\n    {\\n     \"name\": \"stdout\",\\n     \"output_type\": \"stream\",\\n     \"text\": [\\n      \"[1, 1, 1, 1, 1, 1, 1, 1, 1, 1, 1, 1, 1, 1, 1, 1, 1, 1, 1, 1]\\\\n\"\\n     ]\\n    }\\n   ],\\n   \"source\": [\\n    \"x=[1]*20\\\\n\",\\n    \"print(x)\"\\n   ]\\n  },\\n  {\\n   \"cell_type\": \"code\",\\n   \"execution_count\": 29,\\n   \"metadata\": {},\\n   \"outputs\": [\\n    {\\n     \"name\": \"stdout\",\\n     \"output_type\": \"stream\",\\n     \"text\": [\\n      \"[1, 2, 3, 1, 2, 3, 1, 2, 3, 1, 2, 3, 1, 2, 3, 1, 2, 3, 1, 2, 3, 1, 2, 3, 1, 2, 3, 1, 2, 3]\\\\n\"\\n     ]\\n    }\\n   ],\\n   \"source\": [\\n    \"x=[1,2,3]*10\\\\n\",\\n    \"print(x)\"\\n   ]\\n  },\\n  {\\n   \"cell_type\": \"code\",\\n   \"execution_count\": 32,\\n   \"metadata\": {},\\n   \"outputs\": [\\n    {\\n     \"data\": {\\n      \"text/plain\": [\\n       \"[1, 2, 3, 4, 5, 6, 7, 8, 9, 10]\"\\n      ]\\n     },\\n     \"execution_count\": 32,\\n     \"metadata\": {},\\n     \"output_type\": \"execute_result\"\\n    }\\n   ],\\n   \"source\": [\\n    \"x=[1,2,3,4,5]\\\\n\",\\n    \"y=[6,7,8,9,10]\\\\n\",\\n    \"x+y\"\\n   ]\\n  },\\n  {\\n   \"cell_type\": \"code\",\\n   \"execution_count\": 33,\\n   \"metadata\": {},\\n   \"outputs\": [\\n    {\\n     \"data\": {\\n      \"text/plain\": [\\n       \"[1, 2, 3, 4, 5, 5, 5, 5, 5, 5, 5, 5, 6, 6, 7, 7, 8, 9, 57, 58, 78, 85, 567]\"\\n      ]\\n     },\\n     \"execution_count\": 33,\\n     \"metadata\": {},\\n     \"output_type\": \"execute_result\"\\n    }\\n   ],\\n   \"source\": [\\n    \"z=[1,2,3,4,5,6,78,9,6,5,5,5,7,85,57,567,7,5,5,58,5,8,5]\\\\n\",\\n    \"sorted(z)\"\\n   ]\\n  },\\n  {\\n   \"cell_type\": \"code\",\\n   \"execution_count\": 34,\\n   \"metadata\": {},\\n   \"outputs\": [\\n    {\\n     \"data\": {\\n      \"text/plain\": [\\n       \"[\\'acharya\\', \\'kgf\\', \\'khiladi\\', \\'radhe shyam\\', \\'rrr\\']\"\\n      ]\\n     },\\n     \"execution_count\": 34,\\n     \"metadata\": {},\\n     \"output_type\": \"execute_result\"\\n    }\\n   ],\\n   \"source\": [\\n    \"sorted(movies)\"\\n   ]\\n  },\\n  {\\n   \"cell_type\": \"code\",\\n   \"execution_count\": 35,\\n   \"metadata\": {},\\n   \"outputs\": [\\n    {\\n     \"data\": {\\n      \"text/plain\": [\\n       \"938\"\\n      ]\\n     },\\n     \"execution_count\": 35,\\n     \"metadata\": {},\\n     \"output_type\": \"execute_result\"\\n    }\\n   ],\\n   \"source\": [\\n    \"sum(z)\"\\n   ]\\n  },\\n  {\\n   \"cell_type\": \"code\",\\n   \"execution_count\": 37,\\n   \"metadata\": {},\\n   \"outputs\": [\\n    {\\n     \"data\": {\\n      \"text/plain\": [\\n       \"567\"\\n      ]\\n     },\\n     \"execution_count\": 37,\\n     \"metadata\": {},\\n     \"output_type\": \"execute_result\"\\n    }\\n   ],\\n   \"source\": [\\n    \"max(z)\"\\n   ]\\n  },\\n  {\\n   \"cell_type\": \"code\",\\n   \"execution_count\": 38,\\n   \"metadata\": {},\\n   \"outputs\": [\\n    {\\n     \"data\": {\\n      \"text/plain\": [\\n       \"1\"\\n      ]\\n     },\\n     \"execution_count\": 38,\\n     \"metadata\": {},\\n     \"output_type\": \"execute_result\"\\n    }\\n   ],\\n   \"source\": [\\n    \"min(z)\"\\n   ]\\n  },\\n  {\\n   \"cell_type\": \"code\",\\n   \"execution_count\": 39,\\n   \"metadata\": {},\\n   \"outputs\": [\\n    {\\n     \"data\": {\\n      \"text/plain\": [\\n       \"23\"\\n      ]\\n     },\\n     \"execution_count\": 39,\\n     \"metadata\": {},\\n     \"output_type\": \"execute_result\"\\n    }\\n   ],\\n   \"source\": [\\n    \"len(z)\"\\n   ]\\n  },\\n  {\\n   \"cell_type\": \"code\",\\n   \"execution_count\": 40,\\n   \"metadata\": {},\\n   \"outputs\": [\\n    {\\n     \"data\": {\\n      \"text/plain\": [\\n       \"40.78260869565217\"\\n      ]\\n     },\\n     \"execution_count\": 40,\\n     \"metadata\": {},\\n     \"output_type\": \"execute_result\"\\n    }\\n   ],\\n   \"source\": [\\n    \"sum(z)/len(z)\"\\n   ]\\n  },\\n  {\\n   \"cell_type\": \"code\",\\n   \"execution_count\": 41,\\n   \"metadata\": {},\\n   \"outputs\": [\\n    {\\n     \"data\": {\\n      \"text/plain\": [\\n       \"[\\'g\\', \\'a\\', \\'u\\', \\'r\\', \\'a\\', \\'v\\', \\'s\\', \\'i\\', \\'n\\', \\'g\\', \\'h\\']\"\\n      ]\\n     },\\n     \"execution_count\": 41,\\n     \"metadata\": {},\\n     \"output_type\": \"execute_result\"\\n    }\\n   ],\\n   \"source\": [\\n    \"list(\\'gauravsingh\\')\"\\n   ]\\n  },\\n  {\\n   \"cell_type\": \"code\",\\n   \"execution_count\": 42,\\n   \"metadata\": {},\\n   \"outputs\": [],\\n   \"source\": [\\n    \"x=[]\"\\n   ]\\n  },\\n  {\\n   \"cell_type\": \"code\",\\n   \"execution_count\": 43,\\n   \"metadata\": {},\\n   \"outputs\": [],\\n   \"source\": [\\n    \"places=[\\'lucknow\\',\\'dehradun\\',\\'pithoragarh\\',\\'champawat\\',\\'uttarkashi\\',\\'haridwar\\']\"\\n   ]\\n  },\\n  {\\n   \"cell_type\": \"code\",\\n   \"execution_count\": 44,\\n   \"metadata\": {},\\n   \"outputs\": [],\\n   \"source\": [\\n    \"places.append(\\'kashi\\')\"\\n   ]\\n  },\\n  {\\n   \"cell_type\": \"code\",\\n   \"execution_count\": 45,\\n   \"metadata\": {},\\n   \"outputs\": [],\\n   \"source\": [\\n    \"places.append(\\'hydrabad\\')\"\\n   ]\\n  },\\n  {\\n   \"cell_type\": \"code\",\\n   \"execution_count\": 46,\\n   \"metadata\": {},\\n   \"outputs\": [\\n    {\\n     \"name\": \"stdout\",\\n     \"output_type\": \"stream\",\\n     \"text\": [\\n      \"[\\'lucknow\\', \\'dehradun\\', \\'pithoragarh\\', \\'champawat\\', \\'uttarkashi\\', \\'haridwar\\', \\'kashi\\', \\'hydrabad\\']\\\\n\"\\n     ]\\n    }\\n   ],\\n   \"source\": [\\n    \"print(places)\"\\n   ]\\n  },\\n  {\\n   \"cell_type\": \"code\",\\n   \"execution_count\": 47,\\n   \"metadata\": {},\\n   \"outputs\": [\\n    {\\n     \"data\": {\\n      \"text/plain\": [\\n       \"8\"\\n      ]\\n     },\\n     \"execution_count\": 47,\\n     \"metadata\": {},\\n     \"output_type\": \"execute_result\"\\n    }\\n   ],\\n   \"source\": [\\n    \"len(places)\"\\n   ]\\n  },\\n  {\\n   \"cell_type\": \"code\",\\n   \"execution_count\": 48,\\n   \"metadata\": {},\\n   \"outputs\": [\\n    {\\n     \"name\": \"stdout\",\\n     \"output_type\": \"stream\",\\n     \"text\": [\\n      \"[\\'lucknow\\', \\'dehradun\\', \\'pithoragarh\\', \\'champawat\\', \\'uttarkashi\\', \\'didihat\\', \\'haridwar\\', \\'kashi\\', \\'hydrabad\\']\\\\n\"\\n     ]\\n    }\\n   ],\\n   \"source\": [\\n    \"places.insert(5,\\'didihat\\')\\\\n\",\\n    \"print(places)\"\\n   ]\\n  },\\n  {\\n   \"cell_type\": \"code\",\\n   \"execution_count\": 56,\\n   \"metadata\": {},\\n   \"outputs\": [],\\n   \"source\": [\\n    \"worst_places=[\\'kkk,lll,zzz\\']\"\\n   ]\\n  },\\n  {\\n   \"cell_type\": \"code\",\\n   \"execution_count\": 57,\\n   \"metadata\": {},\\n   \"outputs\": [],\\n   \"source\": [\\n    \"places.extend(worst_places)\"\\n   ]\\n  },\\n  {\\n   \"cell_type\": \"code\",\\n   \"execution_count\": 58,\\n   \"metadata\": {},\\n   \"outputs\": [\\n    {\\n     \"name\": \"stdout\",\\n     \"output_type\": \"stream\",\\n     \"text\": [\\n      \"[\\'lucknow\\', \\'dehradun\\', \\'pithoragarh\\', \\'champawat\\', \\'uttarkashi\\', \\'didihat\\', \\'haridwar\\', \\'kashi\\', \\'hydrabad\\', 1, 2, 3, \\'kkk,lll,zzz\\', \\'kkk,lll,zzz\\']\\\\n\"\\n     ]\\n    }\\n   ],\\n   \"source\": [\\n    \"print(places)\"\\n   ]\\n  },\\n  {\\n   \"cell_type\": \"code\",\\n   \"execution_count\": 61,\\n   \"metadata\": {},\\n   \"outputs\": [],\\n   \"source\": [\\n    \"places.remove(\\'didihat\\')\"\\n   ]\\n  },\\n  {\\n   \"cell_type\": \"code\",\\n   \"execution_count\": 62,\\n   \"metadata\": {},\\n   \"outputs\": [\\n    {\\n     \"name\": \"stdout\",\\n     \"output_type\": \"stream\",\\n     \"text\": [\\n      \"[\\'lucknow\\', \\'dehradun\\', \\'pithoragarh\\', \\'champawat\\', \\'uttarkashi\\', \\'haridwar\\', \\'kashi\\', \\'hydrabad\\', 1, 2, 3, \\'kkk,lll,zzz\\', \\'kkk,lll,zzz\\']\\\\n\"\\n     ]\\n    }\\n   ],\\n   \"source\": [\\n    \"print(places)\"\\n   ]\\n  },\\n  {\\n   \"cell_type\": \"code\",\\n   \"execution_count\": 63,\\n   \"metadata\": {},\\n   \"outputs\": [\\n    {\\n     \"data\": {\\n      \"text/plain\": [\\n       \"3\"\\n      ]\\n     },\\n     \"execution_count\": 63,\\n     \"metadata\": {},\\n     \"output_type\": \"execute_result\"\\n    }\\n   ],\\n   \"source\": [\\n    \"places.pop(-3)\"\\n   ]\\n  },\\n  {\\n   \"cell_type\": \"code\",\\n   \"execution_count\": 64,\\n   \"metadata\": {},\\n   \"outputs\": [\\n    {\\n     \"name\": \"stdout\",\\n     \"output_type\": \"stream\",\\n     \"text\": [\\n      \"[\\'lucknow\\', \\'dehradun\\', \\'pithoragarh\\', \\'champawat\\', \\'uttarkashi\\', \\'haridwar\\', \\'kashi\\', \\'hydrabad\\', 1, 2, \\'kkk,lll,zzz\\', \\'kkk,lll,zzz\\']\\\\n\"\\n     ]\\n    }\\n   ],\\n   \"source\": [\\n    \"print(places)\"\\n   ]\\n  },\\n  {\\n   \"cell_type\": \"code\",\\n   \"execution_count\": 1,\\n   \"metadata\": {},\\n   \"outputs\": [],\\n   \"source\": [\\n    \"y=[1,2,334,545,2,2,4,5,2,42,325,32,5235,523,5]\"\\n   ]\\n  },\\n  {\\n   \"cell_type\": \"code\",\\n   \"execution_count\": 2,\\n   \"metadata\": {},\\n   \"outputs\": [\\n    {\\n     \"data\": {\\n      \"text/plain\": [\\n       \"[1, 2, 2, 2, 2, 4, 5, 5, 32, 42, 325, 334, 523, 545, 5235]\"\\n      ]\\n     },\\n     \"execution_count\": 2,\\n     \"metadata\": {},\\n     \"output_type\": \"execute_result\"\\n    }\\n   ],\\n   \"source\": [\\n    \"sorted(y)\"\\n   ]\\n  },\\n  {\\n   \"cell_type\": \"code\",\\n   \"execution_count\": 3,\\n   \"metadata\": {},\\n   \"outputs\": [],\\n   \"source\": [\\n    \"y.sort()\"\\n   ]\\n  },\\n  {\\n   \"cell_type\": \"code\",\\n   \"execution_count\": 4,\\n   \"metadata\": {},\\n   \"outputs\": [\\n    {\\n     \"name\": \"stdout\",\\n     \"output_type\": \"stream\",\\n     \"text\": [\\n      \"[1, 2, 2, 2, 2, 4, 5, 5, 32, 42, 325, 334, 523, 545, 5235]\\\\n\"\\n     ]\\n    }\\n   ],\\n   \"source\": [\\n    \"print(y)\"\\n   ]\\n  },\\n  {\\n   \"cell_type\": \"code\",\\n   \"execution_count\": 5,\\n   \"metadata\": {},\\n   \"outputs\": [],\\n   \"source\": [\\n    \"fruits=[\\'apple\\',\\'grapes\\',\\'Pineapple\\',\\'Litchi\\',\\'banana\\']\"\\n   ]\\n  },\\n  {\\n   \"cell_type\": \"code\",\\n   \"execution_count\": 6,\\n   \"metadata\": {},\\n   \"outputs\": [],\\n   \"source\": [\\n    \"fruits.sort()\"\\n   ]\\n  },\\n  {\\n   \"cell_type\": \"code\",\\n   \"execution_count\": 8,\\n   \"metadata\": {},\\n   \"outputs\": [\\n    {\\n     \"name\": \"stdout\",\\n     \"output_type\": \"stream\",\\n     \"text\": [\\n      \"[5, 4, 3, 4, 3, 1, 2, 1, 1]\\\\n\"\\n     ]\\n    }\\n   ],\\n   \"source\": [\\n    \"x=[1,1,2,1,3,4,3,4,5]\\\\n\",\\n    \"x.reverse()\\\\n\",\\n    \"print(x)\"\\n   ]\\n  },\\n  {\\n   \"cell_type\": \"code\",\\n   \"execution_count\": 9,\\n   \"metadata\": {},\\n   \"outputs\": [\\n    {\\n     \"data\": {\\n      \"text/plain\": [\\n       \"3\"\\n      ]\\n     },\\n     \"execution_count\": 9,\\n     \"metadata\": {},\\n     \"output_type\": \"execute_result\"\\n    }\\n   ],\\n   \"source\": [\\n    \"x.count(1)\"\\n   ]\\n  },\\n  {\\n   \"cell_type\": \"code\",\\n   \"execution_count\": 10,\\n   \"metadata\": {},\\n   \"outputs\": [\\n    {\\n     \"data\": {\\n      \"text/plain\": [\\n       \"2\"\\n      ]\\n     },\\n     \"execution_count\": 10,\\n     \"metadata\": {},\\n     \"output_type\": \"execute_result\"\\n    }\\n   ],\\n   \"source\": [\\n    \"x.count(3)\"\\n   ]\\n  },\\n  {\\n   \"cell_type\": \"code\",\\n   \"execution_count\": 11,\\n   \"metadata\": {},\\n   \"outputs\": [],\\n   \"source\": [\\n    \"z=[11,2,3,3,44,53,5,65,34,32,44,56,99,88]\"\\n   ]\\n  },\\n  {\\n   \"cell_type\": \"code\",\\n   \"execution_count\": 24,\\n   \"metadata\": {},\\n   \"outputs\": [\\n    {\\n     \"data\": {\\n      \"text/plain\": [\\n       \"4\"\\n      ]\\n     },\\n     \"execution_count\": 24,\\n     \"metadata\": {},\\n     \"output_type\": \"execute_result\"\\n    }\\n   ],\\n   \"source\": [\\n    \"z.index(44)\"\\n   ]\\n  },\\n  {\\n   \"cell_type\": \"code\",\\n   \"execution_count\": 19,\\n   \"metadata\": {},\\n   \"outputs\": [\\n    {\\n     \"data\": {\\n      \"text/plain\": [\\n       \"11\"\\n      ]\\n     },\\n     \"execution_count\": 19,\\n     \"metadata\": {},\\n     \"output_type\": \"execute_result\"\\n    }\\n   ],\\n   \"source\": [\\n    \"z.index(56)\"\\n   ]\\n  },\\n  {\\n   \"cell_type\": \"code\",\\n   \"execution_count\": 18,\\n   \"metadata\": {},\\n   \"outputs\": [\\n    {\\n     \"data\": {\\n      \"text/plain\": [\\n       \"0\"\\n      ]\\n     },\\n     \"execution_count\": 18,\\n     \"metadata\": {},\\n     \"output_type\": \"execute_result\"\\n    }\\n   ],\\n   \"source\": [\\n    \"z.index(11)\"\\n   ]\\n  },\\n  {\\n   \"cell_type\": \"code\",\\n   \"execution_count\": 25,\\n   \"metadata\": {},\\n   \"outputs\": [\\n    {\\n     \"name\": \"stdout\",\\n     \"output_type\": \"stream\",\\n     \"text\": [\\n      \"11\\\\n\"\\n     ]\\n    }\\n   ],\\n   \"source\": [\\n    \"if 56 in z:\\\\n\",\\n    \"    print(z.index(56))\"\\n   ]\\n  },\\n  {\\n   \"cell_type\": \"code\",\\n   \"execution_count\": 32,\\n   \"metadata\": {},\\n   \"outputs\": [],\\n   \"source\": [\\n    \"x=[1,2,3,4,5,6,7,8,9,0,11,2,233,]\\\\n\",\\n    \"y=x\\\\n\",\\n    \"z=x.copy()\"\\n   ]\\n  },\\n  {\\n   \"cell_type\": \"code\",\\n   \"execution_count\": 33,\\n   \"metadata\": {},\\n   \"outputs\": [],\\n   \"source\": [\\n    \"x.remove(4)\"\\n   ]\\n  },\\n  {\\n   \"cell_type\": \"code\",\\n   \"execution_count\": 34,\\n   \"metadata\": {},\\n   \"outputs\": [],\\n   \"source\": [\\n    \"x.append(55)\"\\n   ]\\n  },\\n  {\\n   \"cell_type\": \"code\",\\n   \"execution_count\": 35,\\n   \"metadata\": {},\\n   \"outputs\": [],\\n   \"source\": [\\n    \"z.append(44)\"\\n   ]\\n  },\\n  {\\n   \"cell_type\": \"code\",\\n   \"execution_count\": null,\\n   \"metadata\": {},\\n   \"outputs\": [],\\n   \"source\": []\\n  }\\n ],\\n \"metadata\": {\\n  \"kernelspec\": {\\n   \"display_name\": \"Python 3.9.12 (\\'base\\')\",\\n   \"language\": \"python\",\\n   \"name\": \"python3\"\\n  },\\n  \"language_info\": {\\n   \"codemirror_mode\": {\\n    \"name\": \"ipython\",\\n    \"version\": 3\\n   },\\n   \"file_extension\": \".py\",\\n   \"mimetype\": \"text/x-python\",\\n   \"name\": \"python\",\\n   \"nbconvert_exporter\": \"python\",\\n   \"pygments_lexer\": \"ipython3\",\\n   \"version\": \"3.9.12\"\\n  },\\n  \"orig_nbformat\": 4,\\n  \"vscode\": {\\n   \"interpreter\": {\\n    \"hash\": \"b0a99a3a1b08f3b675859fd980c5e7fc263a1ea38da90c587cb24e2b16c3baf4\"\\n   }\\n  }\\n },\\n \"nbformat\": 4,\\n \"nbformat_minor\": 2\\n}\\n'"
      ]
     },
     "execution_count": 2,
     "metadata": {},
     "output_type": "execute_result"
    }
   ],
   "source": [
    "files.get_data('list.ipynb')\n"
   ]
  },
  {
   "cell_type": "code",
   "execution_count": null,
   "metadata": {},
   "outputs": [],
   "source": []
  }
 ],
 "metadata": {
  "kernelspec": {
   "display_name": "Python 3.9.12 ('base')",
   "language": "python",
   "name": "python3"
  },
  "language_info": {
   "codemirror_mode": {
    "name": "ipython",
    "version": 3
   },
   "file_extension": ".py",
   "mimetype": "text/x-python",
   "name": "python",
   "nbconvert_exporter": "python",
   "pygments_lexer": "ipython3",
   "version": "3.9.12"
  },
  "orig_nbformat": 4,
  "vscode": {
   "interpreter": {
    "hash": "b0a99a3a1b08f3b675859fd980c5e7fc263a1ea38da90c587cb24e2b16c3baf4"
   }
  }
 },
 "nbformat": 4,
 "nbformat_minor": 2
}
